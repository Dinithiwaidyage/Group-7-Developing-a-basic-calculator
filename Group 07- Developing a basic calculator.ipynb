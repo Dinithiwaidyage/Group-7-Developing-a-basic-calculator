{
 "cells": [
  {
   "cell_type": "markdown",
   "id": "6ff3a0e4",
   "metadata": {},
   "source": [
    "# Group 07- Developing a basic calculator\n",
    "## Waidyage Keerthilanka Dinithi Waidyage\n",
    "### 05/03/2024\n"
   ]
  },
  {
   "cell_type": "code",
   "execution_count": 1,
   "id": "09ada77c",
   "metadata": {},
   "outputs": [
    {
     "name": "stdout",
     "output_type": "stream",
     "text": [
      "Group_07 Project: Basic calculator\n",
      "Following operation can be performed from Basic Calculator\n",
      "A. Power\n",
      "B. Square_root\n",
      "C. Multiplication\n",
      "D. Division \n",
      "E. Addition\n",
      "F. Subtraction\n",
      "G. Exit\n",
      "Select your choice from A, B, C, D, E, F, G: A\n",
      "Enter your First Number: 12\n",
      "Enter your Second Number: 12\n",
      "Answer is  8916100448256.0\n",
      "Select your choice from A, B, C, D, E, F, G: B\n",
      "Enter your First Number: 64\n",
      "Answer is  8.0\n",
      "Select your choice from A, B, C, D, E, F, G: C\n",
      "Enter your First Number: 5\n",
      "Enter your Second Number: 5\n",
      "Answer is  25.0\n",
      "Select your choice from A, B, C, D, E, F, G: D\n",
      "Enter your First Number: 100\n",
      "Enter your Second Number: 10\n",
      "Answer is  10.0\n",
      "Select your choice from A, B, C, D, E, F, G: A\n",
      "Enter your First Number: 500\n",
      "Enter your Second Number: 500\n"
     ]
    },
    {
     "ename": "OverflowError",
     "evalue": "(34, 'Result too large')",
     "output_type": "error",
     "traceback": [
      "\u001b[1;31m---------------------------------------------------------------------------\u001b[0m",
      "\u001b[1;31mOverflowError\u001b[0m                             Traceback (most recent call last)",
      "Cell \u001b[1;32mIn[1], line 57\u001b[0m\n\u001b[0;32m     55\u001b[0m \u001b[38;5;66;03m# If User is select particular letter from choice option, operation will be continued accordingly\u001b[39;00m\n\u001b[0;32m     56\u001b[0m \u001b[38;5;28;01mif\u001b[39;00m Choice \u001b[38;5;241m==\u001b[39m \u001b[38;5;124m'\u001b[39m\u001b[38;5;124mA\u001b[39m\u001b[38;5;124m'\u001b[39m: \n\u001b[1;32m---> 57\u001b[0m     \u001b[38;5;28mprint\u001b[39m(\u001b[38;5;124m\"\u001b[39m\u001b[38;5;124mAnswer is \u001b[39m\u001b[38;5;124m\"\u001b[39m, Power(Num_1, Num_2))\n\u001b[0;32m     58\u001b[0m \u001b[38;5;28;01melif\u001b[39;00m Choice \u001b[38;5;241m==\u001b[39m \u001b[38;5;124m'\u001b[39m\u001b[38;5;124mB\u001b[39m\u001b[38;5;124m'\u001b[39m:\n\u001b[0;32m     59\u001b[0m     \u001b[38;5;28mprint\u001b[39m(\u001b[38;5;124m\"\u001b[39m\u001b[38;5;124mAnswer is \u001b[39m\u001b[38;5;124m\"\u001b[39m, Square_root(Num_1))\n",
      "Cell \u001b[1;32mIn[1], line 6\u001b[0m, in \u001b[0;36mPower\u001b[1;34m(Num_1, Num_2)\u001b[0m\n\u001b[0;32m      5\u001b[0m \u001b[38;5;28;01mdef\u001b[39;00m \u001b[38;5;21mPower\u001b[39m(Num_1, Num_2):\n\u001b[1;32m----> 6\u001b[0m     \u001b[38;5;28;01mreturn\u001b[39;00m Num_1 \u001b[38;5;241m*\u001b[39m\u001b[38;5;241m*\u001b[39m Num_2\n",
      "\u001b[1;31mOverflowError\u001b[0m: (34, 'Result too large')"
     ]
    }
   ],
   "source": [
    "# Code is used to import math module to get square root operation from math module\n",
    "import math\n",
    "\n",
    "# This function use to get the power (second number) of a number (first number)\n",
    "def Power(Num_1, Num_2):\n",
    "    return Num_1 ** Num_2\n",
    "\n",
    "# This function use to get square root of a number\n",
    "def Square_root(Num_1):\n",
    "    if Num_1 < 0: # if number is below to \"ZERO\", function wouldn't perform\n",
    "        return \"Error! Function CAN NOT be performed for NEGATIVE NUMBERS\"\n",
    "    else:\n",
    "        return math.sqrt(Num_1)\n",
    "    \n",
    "# This function use to multiply two numbers\n",
    "def Multiply(Num_1, Num_2):\n",
    "    return Num_1 * Num_2\n",
    "\n",
    "# This function use to divide first number by second number\n",
    "def Division(Num_1, Num_2):\n",
    "    if Num_2 == 0: # if second number is \"ZERO\", function wouldn't perform\n",
    "        return \"Error! Denominator SHOULD NOT be ZERO\"\n",
    "    else:\n",
    "        return Num_1 / Num_2\n",
    "    \n",
    "# This function use to add two numbers\n",
    "def Addition(Num_1, Num_2):\n",
    "    return Num_1 + Num_2\n",
    "\n",
    "# This function use to subtract first number by second number\n",
    "def Subtraction(Num_1, Num_2):\n",
    "    return Num_1 - Num_2\n",
    "\n",
    "print(\"Group_07 Project: Basic calculator\")\n",
    "print(\"Following operation can be performed from Basic Calculator\")\n",
    "print(\"A. Power\")\n",
    "print(\"B. Square_root\")\n",
    "print(\"C. Multiplication\")\n",
    "print(\"D. Division \")\n",
    "print(\"E. Addition\")\n",
    "print(\"F. Subtraction\")\n",
    "print(\"G. Exit\")\n",
    "\n",
    "while True: # this is used for indefinite loop until certain condition is met or exit using \"break\"\n",
    "    Choice = input(\"Select your choice from A, B, C, D, E, F, G: \")  # take the input from user where user defined using \"in\" \n",
    "\n",
    "    if Choice in ('A', 'B', 'C', 'D', 'E', 'F',): # check if choice is one of the six options\n",
    "        try: \n",
    "            Num_1 = float(input(\"Enter your First Number: \")) # float is used to use decimal numbers as well\n",
    "            if Choice != 'B': # square root operation, only one number is used while other operations are used both numbers.\n",
    "                Num_2 = float(input(\"Enter your Second Number: \"))\n",
    "        except: # this is used to catch the exceptions during executions when using \"try\" \n",
    "            continue # is used to end the current iteration of while loop & continue the next iteration \n",
    "       \n",
    "        # If User is select particular letter from choice option, operation will be continued accordingly\n",
    "        if Choice == 'A': \n",
    "            print(\"Answer is \", Power(Num_1, Num_2))\n",
    "        elif Choice == 'B':\n",
    "            print(\"Answer is \", Square_root(Num_1))\n",
    "        elif Choice == 'C':\n",
    "            print(\"Answer is \", Multiply(Num_1, Num_2))\n",
    "        elif Choice == 'D':\n",
    "            print(\"Answer is \", Division(Num_1, Num_2))\n",
    "        elif Choice == 'E':\n",
    "            print(\"Answer is \", Addition(Num_1, Num_2))\n",
    "        elif Choice == 'F':\n",
    "            print(\"Answer is \", Subtraction(Num_1, Num_2))\n",
    "            \n",
    "    elif Choice == 'G': \n",
    "        print(\"Ending the Calculation. Thanks for using the Basic Calculator\")\n",
    "        break # If User select \"Exit\", calculation will be discontinued\n",
    "    else: # if User select incorrect choice apart from \"in\", it will give a chance to select correct choice\n",
    "        print(\"Invalid choice. Please select again.\")"
   ]
  },
  {
   "cell_type": "code",
   "execution_count": null,
   "id": "27560e2a",
   "metadata": {},
   "outputs": [],
   "source": []
  },
  {
   "cell_type": "code",
   "execution_count": null,
   "id": "6c4acefa",
   "metadata": {},
   "outputs": [],
   "source": []
  }
 ],
 "metadata": {
  "kernelspec": {
   "display_name": "Python 3 (ipykernel)",
   "language": "python",
   "name": "python3"
  },
  "language_info": {
   "codemirror_mode": {
    "name": "ipython",
    "version": 3
   },
   "file_extension": ".py",
   "mimetype": "text/x-python",
   "name": "python",
   "nbconvert_exporter": "python",
   "pygments_lexer": "ipython3",
   "version": "3.11.5"
  }
 },
 "nbformat": 4,
 "nbformat_minor": 5
}
